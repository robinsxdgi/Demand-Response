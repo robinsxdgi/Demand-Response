{
 "cells": [
  {
   "cell_type": "code",
   "execution_count": null,
   "metadata": {},
   "outputs": [],
   "source": [
    "df_Ntou1h_spr3 = df_Ntou1h[df_month_help['GMT'] == 3]\n",
    "df_Ntou1h_spr4 = df_Ntou1h[df_month_help['GMT'] == 4]\n",
    "df_Ntou1h_spr5 = df_Ntou1h[df_month_help['GMT'] == 5]\n",
    "df_Ntou1h_aut9 = df_Ntou1h[df_month_help['GMT'] == 9]\n",
    "df_Ntou1h_aut10 = df_Ntou1h[df_month_help['GMT'] == 10]\n",
    "df_Ntou1h_aut11 = df_Ntou1h[df_month_help['GMT'] == 11]"
   ]
  }
 ],
 "metadata": {
  "kernelspec": {
   "display_name": "Python 3",
   "language": "python",
   "name": "python3"
  },
  "language_info": {
   "codemirror_mode": {
    "name": "ipython",
    "version": 3
   },
   "file_extension": ".py",
   "mimetype": "text/x-python",
   "name": "python",
   "nbconvert_exporter": "python",
   "pygments_lexer": "ipython3",
   "version": "3.7.0"
  }
 },
 "nbformat": 4,
 "nbformat_minor": 2
}
